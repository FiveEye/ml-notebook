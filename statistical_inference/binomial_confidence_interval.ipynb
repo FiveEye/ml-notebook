{
 "cells": [
  {
   "cell_type": "code",
   "execution_count": 111,
   "metadata": {},
   "outputs": [
    {
     "data": {
      "text/plain": [
       "0.010480741793785553"
      ]
     },
     "execution_count": 111,
     "metadata": {},
     "output_type": "execute_result"
    }
   ],
   "source": [
    "import numpy as np\n",
    "import matplotlib.pyplot as plt\n",
    "%matplotlib inline\n",
    "import math\n",
    "import heapq\n",
    "1.0 - math.pow(0.9, 1/10)\n"
   ]
  },
  {
   "cell_type": "code",
   "execution_count": 291,
   "metadata": {},
   "outputs": [],
   "source": [
    "MAX_ITER = 64\n",
    "\n",
    "eps = 1.19209e-07\n",
    "\n",
    "def compute_possibility(n, p, x):\n",
    "    s = 1.0\n",
    "    for i in range(x):\n",
    "        s *= (n - i) / (i + 1)\n",
    "    s *= (p**x) * ((1-p)**(n-x))\n",
    "    return s\n",
    "\n",
    "def bs_next_helper(n, c, t, L, m, p):\n",
    "    s = 0.0\n",
    "    for i in range(m+1):\n",
    "        #print(p, L[i], L[i] + t)\n",
    "        if p < L[i] or p > L[i] + t:\n",
    "            continue\n",
    "        #print(\"s\", s, compute_possibility(n, p, m))\n",
    "        s += compute_possibility(n, p, i)\n",
    "    if s >= c:\n",
    "        return True\n",
    "    return False\n",
    "\n",
    "#print(bs_next_helper(10, 0.9, 1.0, [0.0,0.0], 0, 0.0001))\n",
    "\n",
    "def bs_next(n, c, t, L, i, hq):\n",
    "    if len(hq) == 0:\n",
    "        return 1.0\n",
    "    beg = heapq.heappop(hq)\n",
    "    while len(hq) > 0:\n",
    "        end = heapq.heappop(hq)\n",
    "        #print(end, bs_next_helper(n, c, t, L, i, end))\n",
    "        if bs_next_helper(n, c, t, L, i, end):\n",
    "            beg = end\n",
    "            continue\n",
    "        for _ in range(MAX_ITER):\n",
    "            mid = (beg + end) / 2.0\n",
    "            #print(\"mid:\", mid, L[0], t, c, bs_next_helper(n, c, t, L, i+1, mid))\n",
    "            if bs_next_helper(n, c, t, L, i, mid):\n",
    "                beg = mid\n",
    "            else:\n",
    "                end = mid\n",
    "        heapq.heappush(hq, beg)\n",
    "        #heapq.heappush(hq, min(1.0, beg+t))\n",
    "        heapq.heappush(hq, min(1.0, beg+t+eps))\n",
    "        heapq.heappush(hq, end)\n",
    "        return beg\n",
    "    return 1.0\n",
    "        \n",
    "\n",
    "def bci_helper(n, c, t, L):\n",
    "    for i in range(n+1):\n",
    "        L[i] = 0.0\n",
    "    #L[0] = 0.0\n",
    "    #L[1] = 1.0 - math.pow(c, 1/n)\n",
    "    hq = []\n",
    "    for i in range(n+1):\n",
    "        heapq.heappush(hq, i / n)\n",
    "    heapq.heappush(hq, t)\n",
    "    for i in range(n):\n",
    "        L[i+1] = bs_next(n, c, t, L, i, hq)\n",
    "        #print(hq)\n",
    "    \n",
    "    tmp = test_bci(n, L, t, 0.01)\n",
    "    #if tmp >= c:\n",
    "    #    return True\n",
    "    #return False\n",
    "    while len(hq) > 0:\n",
    "        p = heapq.heappop(hq)\n",
    "        if compute_confidence(n, L, t, p) < c:\n",
    "            return False\n",
    "    return True\n",
    "    #if L[n] + t >= 1.0:\n",
    "    #    return True\n",
    "    #return False\n",
    "\n",
    "def compute_binomail_confidence_interval(n, c):\n",
    "    L = [0.0 for _ in range(n+1)]\n",
    "    beg = 0.0\n",
    "    end = 1.0\n",
    "    for _ in range(MAX_ITER):\n",
    "        mid = (beg + end) / 2.0\n",
    "        ok = bci_helper(n, c, mid, L)\n",
    "        #print(mid, ok)\n",
    "        if ok:\n",
    "            end = mid\n",
    "        else:\n",
    "            beg = mid\n",
    "    bci_helper(n, c, end, L)\n",
    "    return L, [min(1.0, l + end) for l in L], end\n",
    "\n",
    "def compute_confidence(n, L, t, p):\n",
    "    s = 0.0\n",
    "    for i in range(n+1):\n",
    "        if L[i] <= p and p <= L[i] + t:\n",
    "            s += compute_possibility(n, p, i)\n",
    "    return s\n",
    "            \n",
    "\n",
    "def test_bci(n, L, t, step):\n",
    "    ret = min(compute_confidence(n, L, t, 0.0), compute_confidence(n, L, t, 1.0))\n",
    "    ind = 0\n",
    "    p = step\n",
    "    while p <= 1.0:\n",
    "        tmp = compute_confidence(n, L, t, p)\n",
    "        if tmp < ret:\n",
    "            ret = tmp\n",
    "            ind = p\n",
    "        p += step\n",
    "    return ret, ind\n",
    "\n",
    "def compute_and_test(n, c, step):\n",
    "    L, R, t = compute_binomail_confidence_interval(n, c)\n",
    "    ret, ret_p = test_bci(n, L, t, step)\n",
    "    print(\"result:\", c, ret, ret_p)\n",
    "    return L, R, t\n",
    "\n",
    "#compute_binomail_confidence_interval(10, 0.9)  \n",
    "#compute_and_test(10, 0.9, 0.01)\n"
   ]
  },
  {
   "cell_type": "code",
   "execution_count": 296,
   "metadata": {
    "scrolled": true
   },
   "outputs": [
    {
     "name": "stdout",
     "output_type": "stream",
     "text": [
      "result: 0.7 0.7151181128760234 0.18000000000000002\n",
      "interval: 0.2123281945668582\n"
     ]
    },
    {
     "data": {
      "text/plain": [
       "[<matplotlib.lines.Line2D at 0x1e77a436518>]"
      ]
     },
     "execution_count": 296,
     "metadata": {},
     "output_type": "execute_result"
    },
    {
     "data": {
      "image/png": "[encoded data removed]",
      "text/plain": [
       "<Figure size 432x288 with 1 Axes>"
      ]
     },
     "metadata": {
      "needs_background": "light"
     },
     "output_type": "display_data"
    }
   ],
   "source": [
    "n = 20\n",
    "c = 0.7\n",
    "steps = 100\n",
    "L, R, t = compute_and_test(n, c, (1.0 / steps))\n",
    "print(\"interval:\", t)\n",
    "x = [i * (1.0 / steps) for i in range(steps+1)]\n",
    "y = [compute_confidence(n, L, t, i) for i in x]\n",
    "#print(x, y)\n",
    "\n",
    "plt.plot(x,y)\n",
    "#for i,j in zip(x, y):\n",
    "#    print(i,j)"
   ]
  },
  {
   "cell_type": "code",
   "execution_count": 295,
   "metadata": {},
   "outputs": [
    {
     "name": "stdout",
     "output_type": "stream",
     "text": [
      "n: 20 , confidence: 0.9 , interval: 0.33412755760657614\n",
      "0 [0.0, 0.33412755760657614] 0.0\n",
      "1 [0.0052541740694689865, 0.33938173167604513] 0.05\n",
      "2 [0.02691413261401115, 0.3610416902205873] 0.1\n",
      "3 [0.05641789624311594, 0.3905454538496921] 0.15\n",
      "4 [0.09021345530747064, 0.4243410129140468] 0.2\n",
      "5 [0.1269260599358087, 0.46105361754238483] 0.25\n",
      "6 [0.16587238278892397, 0.4999999403955001] 0.3\n",
      "7 [0.20666403328284635, 0.5407915908894225] 0.35\n",
      "8 [0.24906482137980906, 0.5831923789863852] 0.4\n",
      "9 [0.2929288851920709, 0.627056442798647] 0.45\n",
      "10 [0.33801919704609873, 0.6721467546526749] 0.5\n",
      "11 [0.3811895005158469, 0.7153170581224231] 0.55\n",
      "12 [0.4243410129140468, 0.7584685705206229] 0.6\n",
      "13 [0.46105361754238483, 0.795181175148961] 0.65\n",
      "14 [0.4999999403955001, 0.8341274980020763] 0.7\n",
      "15 [0.5407915908894225, 0.8749191484959986] 0.75\n",
      "16 [0.5831923789863852, 0.9173199365929614] 0.8\n",
      "17 [0.627056442798647, 0.9611840004052232] 0.85\n",
      "18 [0.6721467546526749, 1.0] 0.9\n",
      "19 [0.7584685705206229, 1.0] 0.95\n",
      "20 [0.795181175148961, 1.0] 1.0\n"
     ]
    }
   ],
   "source": [
    "print(\"n:\", n, \", confidence:\", c, \", interval:\", t)\n",
    "for i, l in enumerate(L):\n",
    "    print(i, [l,  min(1.0, l + t)], i / n)\n",
    "#compute_confidence(n, L, t, 0.713201540802663)"
   ]
  }
 ],
 "metadata": {
  "kernelspec": {
   "display_name": "Python 3",
   "language": "python",
   "name": "python3"
  },
  "language_info": {
   "codemirror_mode": {
    "name": "ipython",
    "version": 3
   },
   "file_extension": ".py",
   "mimetype": "text/x-python",
   "name": "python",
   "nbconvert_exporter": "python",
   "pygments_lexer": "ipython3",
   "version": "3.7.3"
  }
 },
 "nbformat": 4,
 "nbformat_minor": 2
}
