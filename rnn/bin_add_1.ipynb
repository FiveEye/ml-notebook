{
 "cells": [
  {
   "cell_type": "markdown",
   "metadata": {},
   "source": [
    "# FULL ADDER"
   ]
  },
  {
   "cell_type": "code",
   "execution_count": 71,
   "metadata": {
    "collapsed": true
   },
   "outputs": [],
   "source": [
    "import copy, numpy as np"
   ]
  },
  {
   "cell_type": "code",
   "execution_count": 72,
   "metadata": {
    "collapsed": true
   },
   "outputs": [],
   "source": [
    "np.random.seed(0)\n",
    "\n",
    "def sigmoid(x):\n",
    "    return 1/(1+np.exp(-x))\n",
    "\n",
    "def sigmoid_dev(y):\n",
    "    return y*(1-y)\n",
    "\n",
    "def softplus(x):\n",
    "    return np.log(1+np.exp(x))\n",
    "\n",
    "def softplus_dev(y):\n",
    "    return 1/(1+np.exp(-y))"
   ]
  },
  {
   "cell_type": "code",
   "execution_count": 73,
   "metadata": {},
   "outputs": [
    {
     "name": "stdout",
     "output_type": "stream",
     "text": [
      "[[0 0 0 ..., 0 0 0]\n",
      " [0 0 0 ..., 0 0 1]\n",
      " [0 0 0 ..., 0 1 0]\n",
      " ..., \n",
      " [1 1 1 ..., 1 0 1]\n",
      " [1 1 1 ..., 1 1 0]\n",
      " [1 1 1 ..., 1 1 1]]\n"
     ]
    }
   ],
   "source": [
    "int2bin = {}\n",
    "bin_dim = 8\n",
    "N = pow(2, bin_dim)\n",
    "\n",
    "binary = np.unpackbits(\n",
    "    np.array([range(N)], dtype=np.uint8).T, \n",
    "    axis=1\n",
    ")\n",
    "print(binary)"
   ]
  },
  {
   "cell_type": "code",
   "execution_count": 74,
   "metadata": {
    "collapsed": true
   },
   "outputs": [],
   "source": [
    "alpha = 0.1\n",
    "input_dim = 3\n",
    "hidden_dim = 8\n",
    "output_dim = 2\n",
    "\n",
    "s_0 = 2 * np.random.random((input_dim, hidden_dim)) - 1\n",
    "s_1 = 2 * np.random.random((hidden_dim, output_dim)) - 1"
   ]
  },
  {
   "cell_type": "code",
   "execution_count": 77,
   "metadata": {},
   "outputs": [
    {
     "name": "stdout",
     "output_type": "stream",
     "text": [
      "Error: 0.456986688278\n",
      "Pred: [1 0 1 0 1 1 0 0]\n",
      "True: [1 0 1 0 1 1 0 0]\n",
      "Error: 0.28954276048\n",
      "Pred: [1 1 0 0 1 0 1 0]\n",
      "True: [1 1 0 0 1 0 1 0]\n",
      "Error: 0.240920883924\n",
      "Pred: [0 1 1 1 1 0 1 1]\n",
      "True: [0 1 1 1 1 0 1 1]\n",
      "Error: 0.181749287743\n",
      "Pred: [0 1 0 1 0 0 1 1]\n",
      "True: [0 1 0 1 0 0 1 1]\n",
      "Error: 0.157691104053\n",
      "Pred: [0 1 1 0 0 0 1 0]\n",
      "True: [0 1 1 0 0 0 1 0]\n",
      "Error: 0.153751223171\n",
      "Pred: [1 0 1 0 0 1 1 1]\n",
      "True: [1 0 1 0 0 1 1 1]\n",
      "Error: 0.125636589312\n",
      "Pred: [0 1 1 0 1 1 1 0]\n",
      "True: [0 1 1 0 1 1 1 0]\n",
      "Error: 0.12029896803\n",
      "Pred: [0 1 0 0 1 0 0 1]\n",
      "True: [0 1 0 0 1 0 0 1]\n",
      "Error: 0.12250935799\n",
      "Pred: [0 0 1 1 1 1 0 1]\n",
      "True: [0 0 1 1 1 1 0 1]\n",
      "Error: 0.117531937375\n",
      "Pred: [1 0 0 0 1 1 0 1]\n",
      "True: [1 0 0 0 1 1 0 1]\n"
     ]
    }
   ],
   "source": [
    "\n",
    "\n",
    "u_0 = np.zeros_like(s_0)\n",
    "u_1 = np.zeros_like(s_1)\n",
    "\n",
    "for i in range(60001):\n",
    "    a_int = np.random.randint(N // 2)\n",
    "    a = binary[a_int]\n",
    "    \n",
    "    b_int = np.random.randint(N // 2)\n",
    "    b = binary[b_int]\n",
    "    \n",
    "    c_int = a_int + b_int\n",
    "    c = binary[c_int]\n",
    "    \n",
    "    d = np.zeros_like(c)\n",
    "    \n",
    "    overallErr = 0\n",
    "    \n",
    "    layer_1_val = list()\n",
    "    layer_2_val = list()\n",
    "    h_val = list()\n",
    "    \n",
    "    layer_1_val.append(np.zeros(hidden_dim))\n",
    "    layer_2_val.append(np.zeros(output_dim))\n",
    "    h_val.append(0)\n",
    "    \n",
    "    for p in range(bin_dim):\n",
    "        X = np.array([a[-1 - p], b[-1 - p], h_val[-1]])\n",
    "        Y = np.array([c[-1 - p]])\n",
    "        \n",
    "        layer_1 = sigmoid(np.dot(X, s_0))    \n",
    "        layer_2 = sigmoid(np.dot(layer_1, s_1))\n",
    "        #print(layer_1, layer_2)\n",
    "        layer_1_val.append(copy.deepcopy(layer_1))\n",
    "        layer_2_val.append(copy.deepcopy(layer_2))\n",
    "        \n",
    "        d[-1 - p] = np.round(layer_2[0])\n",
    "        overallErr += np.abs(c[-1 - p] - layer_2[0])\n",
    "\n",
    "        \n",
    "        h_val.append(layer_2[1])\n",
    "    \n",
    "    layer_2_det = list()\n",
    "    \n",
    "    future_h_val = 0\n",
    "    future_h_d = 0\n",
    "    \n",
    "    for p in range(bin_dim):\n",
    "        X = np.array([a[p], b[p], h_val[-2 - p]])\n",
    "        \n",
    "        layer_1 = layer_1_val[-1 - p]\n",
    "        \n",
    "        layer_2 = layer_2_val[-1 - p]\n",
    "        \n",
    "        d_d = (c[p] - layer_2[0]) * sigmoid_dev(layer_2[0])\n",
    "        \n",
    "        if p == 0:\n",
    "            h_d = (future_h_val - layer_2[1]) * sigmoid_dev(layer_2[1])\n",
    "        else:\n",
    "            h_d = future_h_d\n",
    "    \n",
    "        layer_2_d = np.array([d_d, h_d])\n",
    "        \n",
    "        layer_1_d = (layer_2_d.dot(s_1.T)) * sigmoid_dev(layer_1)\n",
    "        \n",
    "        x_d = (layer_1_d.dot(s_0.T)) * sigmoid_dev(X)\n",
    "        \n",
    "        future_h_d = x_d[2]\n",
    "        \n",
    "        #print(layer_1.shape, layer_2_d.shape)\n",
    "        u_1 += np.tensordot(layer_1, layer_2_d, axes=0)\n",
    "        \n",
    "        #print(np.tensordot(prev_layer_1, layer_1_d, axes=0))\n",
    "        u_0 += np.tensordot(X, layer_1_d, axes=0)\n",
    "        \n",
    "        \n",
    "    s_0 += u_0 * alpha\n",
    "    s_1 += u_1 * alpha\n",
    "    \n",
    "    u_0 *= 0\n",
    "    u_1 *= 0\n",
    "    \n",
    "    if i % 5000 == 0:\n",
    "        print(\"Error:\", overallErr)\n",
    "        print(\"Pred:\", d)\n",
    "        print(\"True:\", c)\n",
    "        #print(s_0, s_1)"
   ]
  },
  {
   "cell_type": "code",
   "execution_count": 76,
   "metadata": {},
   "outputs": [
    {
     "name": "stdout",
     "output_type": "stream",
     "text": [
      "DONE 0\n"
     ]
    }
   ],
   "source": [
    "def pred(a_int, b_int):\n",
    "    a = binary[a_int]\n",
    "    b = binary[b_int]\n",
    "    d = np.zeros_like(c)\n",
    "    h = 0\n",
    "    for p in range(bin_dim):\n",
    "        X = np.array([a[-1 - p], b[-1 - p], h])\n",
    "        \n",
    "        layer_1 = sigmoid(np.dot(X, s_0))\n",
    "        \n",
    "        layer_2 = sigmoid(np.dot(layer_1, s_1))\n",
    "        \n",
    "        d[-1 - p] = np.round(layer_2[0])\n",
    "        \n",
    "        h = layer_2[1]\n",
    "    \n",
    "    d_int = 0\n",
    "    for p in range(bin_dim):\n",
    "        d_int *= 2\n",
    "        if d[p] == 1:\n",
    "            d_int += 1\n",
    "    return d_int\n",
    "\n",
    "count = 0\n",
    "for i in range(N // 2):\n",
    "    for j in range(N // 2):\n",
    "        if pred(i, j) != i + j:\n",
    "            count += 1\n",
    "            print(i, j)\n",
    "print(\"DONE\", count)\n",
    "    "
   ]
  }
 ],
 "metadata": {
  "kernelspec": {
   "display_name": "Python 3",
   "language": "python",
   "name": "python3"
  },
  "language_info": {
   "codemirror_mode": {
    "name": "ipython",
    "version": 3
   },
   "file_extension": ".py",
   "mimetype": "text/x-python",
   "name": "python",
   "nbconvert_exporter": "python",
   "pygments_lexer": "ipython3",
   "version": "3.5.2"
  }
 },
 "nbformat": 4,
 "nbformat_minor": 2
}
