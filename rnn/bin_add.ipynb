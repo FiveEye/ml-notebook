{
 "cells": [
  {
   "cell_type": "raw",
   "metadata": {},
   "source": [
    "# Build a Recurrent Neural Net in 5 Min\n",
    "[Youtube](https://www.youtube.com/watch?v=cdLUzrjnlr4)"
   ]
  },
  {
   "cell_type": "code",
   "execution_count": 19,
   "metadata": {
    "collapsed": true
   },
   "outputs": [],
   "source": [
    "import copy, numpy as np"
   ]
  },
  {
   "cell_type": "code",
   "execution_count": 20,
   "metadata": {
    "collapsed": true
   },
   "outputs": [],
   "source": [
    "np.random.seed(0)\n",
    "\n",
    "def sigmoid(x):\n",
    "    return 1/(1+np.exp(-x))\n",
    "\n",
    "def sigmoid_dev(y):\n",
    "    return y*(1-y)"
   ]
  },
  {
   "cell_type": "code",
   "execution_count": 63,
   "metadata": {},
   "outputs": [
    {
     "name": "stdout",
     "output_type": "stream",
     "text": [
      "[[0 0 0 ..., 0 0 0]\n",
      " [0 0 0 ..., 0 0 1]\n",
      " [0 0 0 ..., 0 1 0]\n",
      " ..., \n",
      " [1 1 1 ..., 1 0 1]\n",
      " [1 1 1 ..., 1 1 0]\n",
      " [1 1 1 ..., 1 1 1]]\n"
     ]
    }
   ],
   "source": [
    "int2bin = {}\n",
    "bin_dim = 8\n",
    "N = pow(2, bin_dim)\n",
    "\n",
    "binary = np.unpackbits(\n",
    "    np.array([range(N)], dtype=np.uint8).T, \n",
    "    axis=1\n",
    ")\n",
    "print(binary)"
   ]
  },
  {
   "cell_type": "code",
   "execution_count": 22,
   "metadata": {},
   "outputs": [],
   "source": [
    "alpha = 0.1\n",
    "input_dim = 2\n",
    "hidden_dim = 16\n",
    "output_dim = 1"
   ]
  },
  {
   "cell_type": "code",
   "execution_count": 82,
   "metadata": {},
   "outputs": [
    {
     "name": "stdout",
     "output_type": "stream",
     "text": [
      "Error: 3.27666296449\n",
      "Pred: [1 1 1 1 1 1 1 1]\n",
      "True: [1 0 0 1 1 1 1 1]\n",
      "Error: 3.94589429237\n",
      "Pred: [0 1 0 0 1 0 1 0]\n",
      "True: [0 1 1 0 1 1 1 0]\n",
      "Error: 4.148926913\n",
      "Pred: [1 1 1 1 0 1 1 1]\n",
      "True: [1 0 0 0 1 0 1 1]\n",
      "Error: 3.69053206602\n",
      "Pred: [1 1 1 1 0 1 0 1]\n",
      "True: [1 0 0 0 0 1 0 1]\n",
      "Error: 2.70714119491\n",
      "Pred: [1 1 0 0 0 1 0 1]\n",
      "True: [1 0 0 0 0 1 0 1]\n",
      "Error: 0.82357744285\n",
      "Pred: [0 1 1 1 1 0 1 0]\n",
      "True: [0 1 1 1 1 0 1 0]\n",
      "Error: 0.5670083275\n",
      "Pred: [0 1 0 0 1 1 0 0]\n",
      "True: [0 1 0 0 1 1 0 0]\n",
      "Error: 0.503887025179\n",
      "Pred: [0 1 1 0 0 1 1 1]\n",
      "True: [0 1 1 0 0 1 1 1]\n",
      "Error: 0.458569426211\n",
      "Pred: [0 0 0 0 1 1 1 1]\n",
      "True: [0 0 0 0 1 1 1 1]\n",
      "Error: 0.179992799275\n",
      "Pred: [0 0 1 0 1 0 1 0]\n",
      "True: [0 0 1 0 1 0 1 0]\n",
      "Error: 0.274315968699\n",
      "Pred: [1 0 1 1 1 0 1 0]\n",
      "True: [1 0 1 1 1 0 1 0]\n",
      "Error: 0.316061868943\n",
      "Pred: [0 1 1 1 0 0 0 1]\n",
      "True: [0 1 1 1 0 0 0 1]\n",
      "Error: 0.330405334874\n",
      "Pred: [0 1 0 0 0 1 1 1]\n",
      "True: [0 1 0 0 0 1 1 1]\n",
      "Error: 0.260614280631\n",
      "Pred: [1 0 0 1 0 0 1 1]\n",
      "True: [1 0 0 1 0 0 1 1]\n",
      "Error: 0.199023162657\n",
      "Pred: [0 1 0 0 1 0 0 0]\n",
      "True: [0 1 0 0 1 0 0 0]\n",
      "Error: 0.205246678685\n",
      "Pred: [1 1 1 1 0 0 0 1]\n",
      "True: [1 1 1 1 0 0 0 1]\n",
      "Error: 0.254520159794\n",
      "Pred: [1 0 0 0 0 0 1 0]\n",
      "True: [1 0 0 0 0 0 1 0]\n",
      "Error: 0.13467375401\n",
      "Pred: [0 0 1 0 1 1 0 0]\n",
      "True: [0 0 1 0 1 1 0 0]\n",
      "Error: 0.245503566601\n",
      "Pred: [1 0 0 0 0 0 0 1]\n",
      "True: [1 0 0 0 0 0 0 1]\n",
      "Error: 0.125129570582\n",
      "Pred: [0 1 1 0 1 0 0 0]\n",
      "True: [0 1 1 0 1 0 0 0]\n"
     ]
    }
   ],
   "source": [
    "s_0 = 2 * np.random.random((input_dim, hidden_dim)) - 1\n",
    "s_1 = 2 * np.random.random((hidden_dim, output_dim)) - 1\n",
    "s_h = 2 * np.random.random((hidden_dim, hidden_dim)) - 1\n",
    "\n",
    "u_0 = np.zeros_like(s_0)\n",
    "u_1 = np.zeros_like(s_1)\n",
    "u_h = np.zeros_like(s_h)\n",
    "\n",
    "for i in range(20000):\n",
    "    a_int = np.random.randint(N // 2)\n",
    "    a = binary[a_int]\n",
    "    \n",
    "    b_int = np.random.randint(N // 2)\n",
    "    b = binary[b_int]\n",
    "    \n",
    "    c_int = a_int + b_int\n",
    "    c = binary[c_int]\n",
    "    \n",
    "    d = np.zeros_like(c)\n",
    "    \n",
    "    overallErr = 0\n",
    "    \n",
    "    layer_2_det = list()\n",
    "    layer_1_val = list()\n",
    "    layer_1_val.append(np.zeros(hidden_dim))\n",
    "    \n",
    "    for p in range(bin_dim):\n",
    "        X = np.array([a[-1 - p], b[-1 - p]])\n",
    "        Y = np.array([c[-1 - p]])\n",
    "        \n",
    "        layer_1 = sigmoid(np.dot(X, s_0) + np.dot(layer_1_val[-1], s_h))\n",
    "        \n",
    "        layer_2 = sigmoid(np.dot(layer_1, s_1))\n",
    "\n",
    "        layer_2_err = Y - layer_2\n",
    "        \n",
    "        layer_2_det.append(layer_2_err * sigmoid_dev(layer_2))\n",
    "        \n",
    "        overallErr += np.abs(layer_2_err[0])\n",
    "        \n",
    "        d[-1 - p] = np.round(layer_2[0])\n",
    "        \n",
    "        layer_1_val.append(copy.deepcopy(layer_1))\n",
    "    \n",
    "    future_layer_1_d = np.zeros(hidden_dim)\n",
    "    \n",
    "    for p in range(bin_dim):\n",
    "        X = np.array([a[p], b[p]])\n",
    "        Y = np.array([c[p]])\n",
    "        \n",
    "        layer_1 = layer_1_val[-1 - p]\n",
    "        prev_layer_1 = layer_1_val[-2 - p]\n",
    "        \n",
    "        layer_2_d = layer_2_det[-1 - p]\n",
    "        \n",
    "        layer_1_d = (future_layer_1_d.dot(s_h.T) + layer_2_d.dot(s_1.T)) * sigmoid_dev(layer_1)\n",
    "        \n",
    "        #print(future_layer_1_d.dot(s_h.T) + layer_2_d.dot(s_1.T), sigmoid_dev(layer_1))\n",
    "        #print(u_1.shape)\n",
    "        u_1 += (layer_1 * layer_2_d).reshape(16,1)\n",
    "        \n",
    "        #u_h += prev_layer_1.T.dot(layer_1_d)\n",
    "        #print(np.tensordot(prev_layer_1, layer_1_d, axes=0))\n",
    "        u_h += np.tensordot(prev_layer_1, layer_1_d, axes=0)\n",
    "        u_0 += np.tensordot(X, layer_1_d, axes=0)\n",
    "        \n",
    "        future_layer_1_d = layer_1_d\n",
    "        \n",
    "    s_0 += u_0 * alpha\n",
    "    s_1 += u_1 * alpha\n",
    "    s_h += u_h * alpha\n",
    "    \n",
    "    u_0 *= 0\n",
    "    u_1 *= 0\n",
    "    u_h *= 0\n",
    "    \n",
    "    if i % 2000 == 0:\n",
    "        print(\"Error:\", overallErr)\n",
    "        print(\"Pred:\", d)\n",
    "        print(\"True:\", c)\n",
    "        \n",
    "        "
   ]
  },
  {
   "cell_type": "code",
   "execution_count": 91,
   "metadata": {},
   "outputs": [
    {
     "name": "stdout",
     "output_type": "stream",
     "text": [
      "OK\n"
     ]
    }
   ],
   "source": [
    "def pred(a_int, b_int):\n",
    "    a = binary[a_int]\n",
    "    b = binary[b_int]\n",
    "    c = binary[a_int + b_int]\n",
    "    d = np.zeros_like(c)\n",
    "    prev_layer_1 = np.zeros(hidden_dim)\n",
    "    for p in range(bin_dim):\n",
    "        X = np.array([a[-1 - p], b[-1 - p]])\n",
    "        Y = np.array([c[-1 - p]])\n",
    "        \n",
    "        layer_1 = sigmoid(np.dot(X, s_0) + np.dot(prev_layer_1, s_h))\n",
    "        \n",
    "        layer_2 = sigmoid(np.dot(layer_1, s_1))\n",
    "        \n",
    "        d[-1 - p] = np.round(layer_2[0])\n",
    "        \n",
    "        prev_layer_1 = layer_1\n",
    "    d_int = 0\n",
    "    for p in range(bin_dim):\n",
    "        d_int *= 2\n",
    "        if d[p] == 1:\n",
    "            d_int += 1\n",
    "    return d_int\n",
    "\n",
    "for i in range(N // 2):\n",
    "    for j in range(N // 2):\n",
    "        if pred(i, j) != i + j:\n",
    "            print(i, j)\n",
    "print(\"OK\")\n",
    "    "
   ]
  }
 ],
 "metadata": {
  "kernelspec": {
   "display_name": "Python 3",
   "language": "python",
   "name": "python3"
  },
  "language_info": {
   "codemirror_mode": {
    "name": "ipython",
    "version": 3
   },
   "file_extension": ".py",
   "mimetype": "text/x-python",
   "name": "python",
   "nbconvert_exporter": "python",
   "pygments_lexer": "ipython3",
   "version": "3.5.3"
  }
 },
 "nbformat": 4,
 "nbformat_minor": 2
}
