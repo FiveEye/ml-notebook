{
 "cells": [
  {
   "cell_type": "code",
   "execution_count": 162,
   "metadata": {
    "collapsed": true
   },
   "outputs": [],
   "source": [
    "import copy, numpy as np"
   ]
  },
  {
   "cell_type": "code",
   "execution_count": 163,
   "metadata": {
    "collapsed": true
   },
   "outputs": [],
   "source": [
    "np.random.seed(0)\n",
    "\n",
    "def sigmoid(x):\n",
    "    return 1/(1+np.exp(-x))\n",
    "\n",
    "def sigmoid_dev(y):\n",
    "    return y*(1-y)\n",
    "\n",
    "def softplus(x):\n",
    "    return np.log(1+np.exp(x))\n",
    "\n",
    "def softplus_dev(y):\n",
    "    return 1/(1+np.exp(-y))"
   ]
  },
  {
   "cell_type": "code",
   "execution_count": 164,
   "metadata": {},
   "outputs": [
    {
     "name": "stdout",
     "output_type": "stream",
     "text": [
      "[[0 0 0 ..., 0 0 0]\n",
      " [0 0 0 ..., 0 0 1]\n",
      " [0 0 0 ..., 0 1 0]\n",
      " ..., \n",
      " [1 1 1 ..., 1 0 1]\n",
      " [1 1 1 ..., 1 1 0]\n",
      " [1 1 1 ..., 1 1 1]]\n"
     ]
    }
   ],
   "source": [
    "int2bin = {}\n",
    "bin_dim = 8\n",
    "N = pow(2, bin_dim)\n",
    "\n",
    "binary = np.unpackbits(\n",
    "    np.array([range(N)], dtype=np.uint8).T, \n",
    "    axis=1\n",
    ")\n",
    "print(binary)"
   ]
  },
  {
   "cell_type": "code",
   "execution_count": 165,
   "metadata": {
    "collapsed": true
   },
   "outputs": [],
   "source": [
    "alpha = 0.1\n",
    "nn_dim = [3, 8, 2]\n",
    "input_dim = nn_dim[0]\n",
    "output_dim = nn_dim[-1]\n",
    "\n",
    "num_layers = len(nn_dim)\n",
    "\n",
    "s = list()\n",
    "for i in range(num_layers - 1):\n",
    "    s.append(2 * np.random.random((nn_dim[i], nn_dim[i+1])) - 1)\n",
    "\n",
    "u = list()\n",
    "for i in range(num_layers - 1):\n",
    "    u.append(np.zeros((nn_dim[i], nn_dim[i+1])))\n"
   ]
  },
  {
   "cell_type": "code",
   "execution_count": 166,
   "metadata": {
    "collapsed": true
   },
   "outputs": [],
   "source": [
    "def run_nn(s, X):\n",
    "    out = list()\n",
    "    out.append(copy.deepcopy(X))\n",
    "    layer = X\n",
    "    for mat in s:\n",
    "        layer = sigmoid(np.dot(out[-1], mat))\n",
    "        out.append(copy.deepcopy(layer))\n",
    "    return out\n",
    "\n",
    "def bb_nn(s, X, Y):\n",
    "    layer_v = run_nn(s, X)\n",
    "    \n",
    "    u = list()\n",
    "    for i in range(num_layers - 1):\n",
    "        u.append(np.zeros((nn_dim[i], nn_dim[i+1])))\n",
    "    \n",
    "    dets = list()\n",
    "    det = (Y - layer_v[-1]) * sigmoid_dev(layer_v[-1])\n",
    "    dets.append(copy.deepcopy(det))\n",
    "    \n",
    "    for i in range(1, len(s) + 1):\n",
    "        mat = s[-i]\n",
    "        det = dets[-1].dot(mat.T) * sigmoid_dev(layer_v[-1-i])\n",
    "        dets.append(copy.deepcopy(det))\n",
    "        \n",
    "    for i in range(0, len(s)):\n",
    "        u[i] += np.tensordot(layer_v[i], dets[-2-i], axes=0)\n",
    "    \n",
    "    return u, layer_v\n",
    "    "
   ]
  },
  {
   "cell_type": "code",
   "execution_count": 171,
   "metadata": {},
   "outputs": [
    {
     "name": "stdout",
     "output_type": "stream",
     "text": [
      "Error: 0.254437759353\n",
      "Pred: [0 1 1 1 1 1 1 1]\n",
      "True: [0 1 1 1 1 1 1 1]\n",
      "Error: 0.190465048641\n",
      "Pred: [1 0 0 1 0 1 0 0]\n",
      "True: [1 0 0 1 0 1 0 0]\n",
      "Error: 0.169893630973\n",
      "Pred: [0 1 1 1 0 0 0 1]\n",
      "True: [0 1 1 1 0 0 0 1]\n",
      "Error: 0.164652831298\n",
      "Pred: [0 1 1 1 1 1 0 1]\n",
      "True: [0 1 1 1 1 1 0 1]\n"
     ]
    }
   ],
   "source": [
    "def train():\n",
    "    for j in range(20000):\n",
    "\n",
    "        a_int = np.random.randint(N // 2)\n",
    "        a = binary[a_int]\n",
    "\n",
    "        b_int = np.random.randint(N // 2)\n",
    "        b = binary[b_int]\n",
    "\n",
    "        c_int = a_int + b_int\n",
    "        c = binary[c_int]\n",
    "\n",
    "        d = np.zeros_like(c)\n",
    "\n",
    "        overallErr = 0\n",
    "\n",
    "        layer_vals = list()\n",
    "\n",
    "        h_val = 0\n",
    "\n",
    "        for p in range(bin_dim):\n",
    "            X = np.array([a[-1 - p], b[-1 - p], h_val])\n",
    "            Y = np.array([c[-1 - p]])\n",
    "\n",
    "            layer_v = run_nn(s, X)\n",
    "            layer_vals.append(layer_v)\n",
    "\n",
    "            h_val = layer_v[-1][-1]\n",
    "\n",
    "            d[-1-p] = np.round(layer_v[-1][0])\n",
    "            overallErr += np.abs(c[-1 - p] - layer_v[-1][0])\n",
    "        #print(layer_vals)\n",
    "        future_h_d = 0\n",
    "        for p in range(bin_dim):\n",
    "            layer_v = layer_vals[-1 - p]\n",
    "            X = layer_v[0]\n",
    "            #print(layer_v[-1])\n",
    "            dets = list()\n",
    "\n",
    "            d_d = (c[p] - layer_v[-1][0]) * sigmoid_dev(layer_v[-1][0])\n",
    "\n",
    "            if p == 0:\n",
    "                h_d = (0 - layer_v[-1][-1]) * sigmoid_dev(layer_v[-1][-1])\n",
    "            else:\n",
    "                h_d = future_h_d\n",
    "\n",
    "            dets.append(np.array([d_d, h_d]))\n",
    "\n",
    "            for i in range(1, len(s) + 1):\n",
    "                mat = s[-i]\n",
    "                det = dets[-1].dot(mat.T) * sigmoid_dev(layer_v[-1-i])\n",
    "                dets.append(copy.deepcopy(det))\n",
    "\n",
    "            future_h_d = dets[-1][-1]\n",
    "\n",
    "            for i in range(0, len(s)):\n",
    "                u[i] += np.tensordot(layer_v[i], dets[-2-i], axes=0)\n",
    "        for i in range(0, len(s)):\n",
    "            s[i] += u[i] * alpha\n",
    "            u[i] *= 0\n",
    "        if j % 5000 == 0:\n",
    "            print(\"Error:\", overallErr)\n",
    "            print(\"Pred:\", d)\n",
    "            print(\"True:\", c)\n",
    "            #print(s)\n",
    "train()"
   ]
  },
  {
   "cell_type": "code",
   "execution_count": 172,
   "metadata": {},
   "outputs": [
    {
     "name": "stdout",
     "output_type": "stream",
     "text": [
      "[0 0 0] [0 0] [ 0.  0.]\n",
      "[1 0 0] [1 0] [ 1.  0.]\n",
      "[0 1 0] [1 0] [ 1.  0.]\n",
      "[1 1 0] [0 1] [ 0.  1.]\n",
      "[0 0 1] [1 0] [ 1.  0.]\n",
      "[1 0 1] [0 1] [ 0.  1.]\n",
      "[0 1 1] [0 1] [ 0.  1.]\n",
      "[1 1 1] [1 1] [ 1.  1.]\n"
     ]
    }
   ],
   "source": [
    "def fastTrain():\n",
    "    for i in range(num_layers - 1):\n",
    "        u[i] *= 0\n",
    "    for j in range(20000):\n",
    "        err = 0.0\n",
    "        for x in range(8):\n",
    "            a = x % 2\n",
    "            b = (x // 2) % 2\n",
    "            c = (x // 4) % 2\n",
    "            d = a + b + c\n",
    "            d1 = d % 2\n",
    "            d2 = (d // 2) % 2\n",
    "            X = np.array([a, b, c])\n",
    "            Y = np.array([d1, d2])\n",
    "            ux, layer_v = bb_nn(s, X, Y)\n",
    "            err += np.sum(np.abs(Y - layer_v[-1]))\n",
    "            for i in range(num_layers - 1):\n",
    "                u[i] += ux[i]\n",
    "        for i in range(0, len(s)):\n",
    "            s[i] += u[i] * alpha\n",
    "            u[i] *= 0\n",
    "        if j % 5000 == 0:\n",
    "            print(\"Error:\", err)\n",
    "#fastTrain()\n",
    "\n",
    "for x in range(8):\n",
    "    x1 = x % 2\n",
    "    x2 = (x // 2) % 2\n",
    "    x3 = (x // 4) % 2\n",
    "    y = x1 + x2 + x3\n",
    "    y1 = y % 2\n",
    "    y2 = (y // 2) % 2\n",
    "    X = np.array([x1, x2, x3])\n",
    "    Y = np.array([y1, y2])\n",
    "    ux, layer_v = bb_nn(s, X, Y)\n",
    "    print(X, Y, np.round(layer_v[-1]))"
   ]
  },
  {
   "cell_type": "code",
   "execution_count": 169,
   "metadata": {},
   "outputs": [
    {
     "name": "stdout",
     "output_type": "stream",
     "text": [
      "DONE 0\n"
     ]
    }
   ],
   "source": [
    "def pred(a_int, b_int):\n",
    "    a = binary[a_int]\n",
    "    b = binary[b_int]\n",
    "    d = np.zeros_like(b)\n",
    "    h = 0\n",
    "    for p in range(bin_dim):\n",
    "        X = np.array([a[-1 - p], b[-1 - p], h])\n",
    "        \n",
    "        layer_v = run_nn(s, X)\n",
    "        \n",
    "        d[-1 - p] = np.round(layer_v[-1][0])\n",
    "        \n",
    "        h = layer_v[-1][-1]\n",
    "    \n",
    "    d_int = 0\n",
    "    for p in range(bin_dim):\n",
    "        d_int *= 2\n",
    "        if d[p] == 1:\n",
    "            d_int += 1\n",
    "    return d_int\n",
    "\n",
    "count = 0\n",
    "for i in range(N // 2):\n",
    "    for j in range(N // 2):\n",
    "        if pred(i, j) != i + j:\n",
    "            print(i, j, pred(i,j))\n",
    "\n",
    "print(\"DONE\", count)"
   ]
  }
 ],
 "metadata": {
  "kernelspec": {
   "display_name": "Python 3",
   "language": "python",
   "name": "python3"
  },
  "language_info": {
   "codemirror_mode": {
    "name": "ipython",
    "version": 3
   },
   "file_extension": ".py",
   "mimetype": "text/x-python",
   "name": "python",
   "nbconvert_exporter": "python",
   "pygments_lexer": "ipython3",
   "version": "3.5.2"
  }
 },
 "nbformat": 4,
 "nbformat_minor": 2
}
