{
 "cells": [
  {
   "cell_type": "code",
   "execution_count": 1,
   "metadata": {},
   "outputs": [
    {
     "name": "stderr",
     "output_type": "stream",
     "text": [
      "Using TensorFlow backend.\n"
     ]
    }
   ],
   "source": [
    "import numpy as np\n",
    "import keras as ks\n",
    "from keras.models import Model\n",
    "from keras.layers import Input, Dense, Lambda, Reshape, Permute\n",
    "from keras.layers.convolutional import Conv2D\n",
    "from keras.layers.pooling import MaxPooling3D, MaxPooling2D\n",
    "from keras.layers.merge import concatenate\n",
    "import keras.backend as K\n",
    "\n",
    "from dataset import *"
   ]
  },
  {
   "cell_type": "code",
   "execution_count": 2,
   "metadata": {
    "collapsed": true
   },
   "outputs": [],
   "source": [
    "train_data = Dataset(\"data/gridworld_8x8.npz\", mode='train', imsize=8)\n",
    "test_data = Dataset(\"data/gridworld_8x8.npz\", mode='test', imsize=8)\n"
   ]
  },
  {
   "cell_type": "code",
   "execution_count": 3,
   "metadata": {
    "collapsed": true
   },
   "outputs": [],
   "source": [
    "def VIN_Block(r, k, ch_q):\n",
    "    conv3 = Conv2D(filters=l_q, \n",
    "                   kernel_size=(3, 3), \n",
    "                   padding='same',\n",
    "                   bias=False)\n",
    "\n",
    "    conv3b = Conv2D(filters=l_q, \n",
    "                   kernel_size=(3, 3), \n",
    "                   padding='same',\n",
    "                   bias=False)\n",
    "    q = conv3(r)\n",
    "\n",
    "    for _ in range(k):\n",
    "        #v = Lambda(lambda x: K.max(x, axis=CHANNEL_AXIS, keepdims=True)),\n",
    "        #           output_shape=(sz,sz,1))(q)\n",
    "        v = MaxPooling3D(pool_size=(1,1,ch_q))(q)\n",
    "        rv = concatenate([r, v], axis=3)\n",
    "        q = conv3b(rv)\n",
    "    return q"
   ]
  },
  {
   "cell_type": "code",
   "execution_count": 7,
   "metadata": {},
   "outputs": [
    {
     "name": "stdout",
     "output_type": "stream",
     "text": [
      "Tensor(\"reshape_2/Reshape:0\", shape=(?, 64, 10), dtype=float32)\n",
      "Tensor(\"lambda_22/map/TensorArrayStack/TensorArrayGatherV3:0\", shape=(?, 10), dtype=float32)\n",
      "Tensor(\"dense_2/Softmax:0\", shape=(?, 8), dtype=float32)\n"
     ]
    }
   ],
   "source": [
    "def VIN(sz, ch_i, k, ch_h, ch_q, ch_a):\n",
    "    map_in = Input(shape=(sz,sz,ch_i))\n",
    "    s = Input(shape=(1,), dtype='int32')\n",
    "    #print(s)\n",
    "    h = Conv2D(filters=ch_h, \n",
    "               kernel_size=(3,3), \n",
    "               padding='same', \n",
    "               activation='relu')(map_in)\n",
    "    r = Conv2D(filters=1, \n",
    "               kernel_size=(3,3), \n",
    "               padding='same',\n",
    "               use_bias=False,\n",
    "               activation=None,\n",
    "               )(h)\n",
    "    conv3 = Conv2D(filters=ch_q, \n",
    "                   kernel_size=(3, 3), \n",
    "                   padding='same',\n",
    "                   use_bias=False)\n",
    "\n",
    "    conv3b = Conv2D(filters=ch_q, \n",
    "                   kernel_size=(3, 3), \n",
    "                   padding='same',\n",
    "                   use_bias=False)\n",
    "    \n",
    "    q = conv3(r)\n",
    "    for _ in range(k):\n",
    "        v = Lambda(lambda x: K.max(x, axis=3, keepdims=True), output_shape=(sz,sz,1))(q)\n",
    "        rv = concatenate([r, v], axis=3)\n",
    "        q = conv3b(rv)\n",
    "    \n",
    "    #print(q)\n",
    "    q = Reshape(target_shape=(sz * sz, ch_q))(q)\n",
    "    #print(q)\n",
    "    \n",
    "    def attention(x):\n",
    "        #x = K.permute_dimensions(x, (1,0,2))\n",
    "        N = K.shape(x)[0]\n",
    "        q_out = K.map_fn(lambda i: K.gather(x[i], s[i,0]), K.arange(0,N), dtype='float32')\n",
    "        return q_out\n",
    "    print(q)\n",
    "    q_out = Lambda(attention, output_shape=(ch_q,))(q)\n",
    "    print(q_out)\n",
    "    out = Dense(units=ch_a, input_shape=(10,), activation='softmax', use_bias=False)(q_out)\n",
    "    print(out)\n",
    "    return Model(inputs=[map_in,s], outputs=out)\n",
    "\n",
    "model = VIN(8, 2, 10, 150, 10, 8)"
   ]
  },
  {
   "cell_type": "code",
   "execution_count": 5,
   "metadata": {},
   "outputs": [
    {
     "name": "stdout",
     "output_type": "stream",
     "text": [
      "(77760, 8, 8, 2)\n",
      "(77760, 8)\n",
      "Epoch 1/5\n",
      "77760/77760 [==============================] - 46s - loss: 0.4492 - acc: 0.8480    \n",
      "Epoch 2/5\n",
      "77760/77760 [==============================] - 43s - loss: 0.2490 - acc: 0.9185    \n",
      "Epoch 3/5\n",
      "77760/77760 [==============================] - 42s - loss: 0.2069 - acc: 0.9328    \n",
      "Epoch 4/5\n",
      "77760/77760 [==============================] - 43s - loss: 0.1649 - acc: 0.9486    \n",
      "Epoch 5/5\n",
      "77760/77760 [==============================] - 43s - loss: 0.1314 - acc: 0.9610    \n"
     ]
    },
    {
     "data": {
      "text/plain": [
       "<keras.callbacks.History at 0x7f8fdc7c0748>"
      ]
     },
     "execution_count": 5,
     "metadata": {},
     "output_type": "execute_result"
    }
   ],
   "source": [
    "model.compile(loss='categorical_crossentropy',\n",
    "              optimizer='sgd',\n",
    "              metrics=['accuracy'])\n",
    "\n",
    "Xtrain = [train_data.images,train_data.s1*8+train_data.s2]\n",
    "Ytrain = K.get_value(K.one_hot(train_data.labels, 8))\n",
    "print(np.shape(Xtrain[0]))\n",
    "print(np.shape(Ytrain))\n",
    "model.fit(Xtrain, Ytrain, epochs=5, batch_size=32)"
   ]
  },
  {
   "cell_type": "code",
   "execution_count": 6,
   "metadata": {},
   "outputs": [
    {
     "name": "stdout",
     "output_type": "stream",
     "text": [
      "12960/12960 [==============================] - 2s     \n"
     ]
    },
    {
     "data": {
      "text/plain": [
       "[0.12243146418340872, 0.96450617283950613]"
      ]
     },
     "execution_count": 6,
     "metadata": {},
     "output_type": "execute_result"
    }
   ],
   "source": [
    "Xtest = [test_data.images,test_data.s1*8+test_data.s2]\n",
    "Ytest = K.get_value(K.one_hot(test_data.labels, 8))\n",
    "model.evaluate(Xtest, Ytest)"
   ]
  }
 ],
 "metadata": {
  "kernelspec": {
   "display_name": "Python 3",
   "language": "python",
   "name": "python3"
  },
  "language_info": {
   "codemirror_mode": {
    "name": "ipython",
    "version": 3
   },
   "file_extension": ".py",
   "mimetype": "text/x-python",
   "name": "python",
   "nbconvert_exporter": "python",
   "pygments_lexer": "ipython3",
   "version": "3.5.2"
  }
 },
 "nbformat": 4,
 "nbformat_minor": 2
}
